{
 "cells": [
  {
   "cell_type": "code",
   "execution_count": 24,
   "metadata": {},
   "outputs": [
    {
     "name": "stdout",
     "output_type": "stream",
     "text": [
      "False True True False\n"
     ]
    }
   ],
   "source": [
    "project = \"cake\"\n",
    "difficulty = 3\n",
    "ingredients = [\"flour\", \"butter\", \"sugar\", \"eggs\", \"cocoa powder\", \"baking powder\"]\n",
    "project, difficulty, ingredients = [\"cake\", 3, [\"flour\", \"butter\", \"sugar\", \"eggs\", \"cocoa powder\", \"baking powder\"]]\n",
    "print((\"apples\" in ingredients), (\"butter\" in ingredients), (\"eggs\" in ingredients) or (\"margarin\" in ingredients), (\"eggs\" in ingredients) and (\"margarin\" in ingredients))"
   ]
  },
  {
   "cell_type": "code",
   "execution_count": 33,
   "metadata": {},
   "outputs": [
    {
     "name": "stdout",
     "output_type": "stream",
     "text": [
      "<class 'int'> <class 'int'> <class 'str'> <class 'int'> <class 'str'> <class 'float'>\n",
      "flour -  175\n",
      "butter -  175\n",
      "sugar -  100g\n",
      "eggs -  2\n",
      "cocoa_powder -  1ts\n",
      "baking_powder -  0.5\n"
     ]
    }
   ],
   "source": [
    "flour = 175\n",
    "butter = 175\n",
    "sugar = \"100g\"\n",
    "eggs = 2\n",
    "cocoa_powder = \"1ts\"\n",
    "baking_powder = 0.5\n",
    "print(type(flour),type(butter), type(sugar), type(eggs), type(cocoa_powder), type(baking_powder))\n",
    "print(\"flour - \", flour)\n",
    "print(\"butter - \", butter)\n",
    "print(\"sugar - \", sugar)\n",
    "print(\"eggs - \", eggs)\n",
    "print(\"cocoa_powder - \", cocoa_powder)\n",
    "print(\"baking_powder - \", baking_powder)"
   ]
  },
  {
   "cell_type": "code",
   "execution_count": null,
   "metadata": {},
   "outputs": [],
   "source": []
  }
 ],
 "metadata": {
  "kernelspec": {
   "display_name": "Python 3",
   "language": "python",
   "name": "python3"
  },
  "language_info": {
   "codemirror_mode": {
    "name": "ipython",
    "version": 3
   },
   "file_extension": ".py",
   "mimetype": "text/x-python",
   "name": "python",
   "nbconvert_exporter": "python",
   "pygments_lexer": "ipython3",
   "version": "3.6.5"
  }
 },
 "nbformat": 4,
 "nbformat_minor": 2
}
