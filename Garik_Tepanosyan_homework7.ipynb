{
 "cells": [
  {
   "cell_type": "code",
   "execution_count": 4,
   "metadata": {},
   "outputs": [
    {
     "name": "stdout",
     "output_type": "stream",
     "text": [
      "A :  4\n",
      "B :  0\n",
      "C :  0\n",
      "D :  3\n",
      "E :  0\n",
      "F :  1\n",
      "G :  5\n",
      "H :  4\n",
      "I :  0\n",
      "J :  1\n",
      "K :  1\n",
      "L :  0\n",
      "M :  0\n",
      "N :  0\n",
      "O :  0\n",
      "P :  0\n",
      "Q :  0\n",
      "R :  0\n",
      "S :  5\n",
      "T :  0\n",
      "U :  0\n",
      "V :  0\n",
      "W :  0\n",
      "X :  0\n",
      "Y :  0\n",
      "Z :  0\n"
     ]
    }
   ],
   "source": [
    "import sys\n",
    "import string\n",
    "\n",
    "inp_file = open(sys.argv[1], mode = \"r+\", newline = \"\\n\" )\n",
    "inp_txt = inp_file.read()\n",
    "out_txt = inp_txt.upper()\n",
    "#print(out_txt)\n",
    "\n",
    "for character in list(string.ascii_uppercase):\n",
    "    print(character, \": \", out_txt.count(character))\n",
    "\n"
   ]
  },
  {
   "cell_type": "code",
   "execution_count": null,
   "metadata": {},
   "outputs": [],
   "source": []
  }
 ],
 "metadata": {
  "kernelspec": {
   "display_name": "Python 3",
   "language": "python",
   "name": "python3"
  },
  "language_info": {
   "codemirror_mode": {
    "name": "ipython",
    "version": 3
   },
   "file_extension": ".py",
   "mimetype": "text/x-python",
   "name": "python",
   "nbconvert_exporter": "python",
   "pygments_lexer": "ipython3",
   "version": "3.6.5"
  }
 },
 "nbformat": 4,
 "nbformat_minor": 2
}
