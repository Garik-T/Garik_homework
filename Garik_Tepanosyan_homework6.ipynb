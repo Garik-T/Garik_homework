{
 "cells": [
  {
   "cell_type": "markdown",
   "metadata": {},
   "source": [
    "# Exersize 1"
   ]
  },
  {
   "cell_type": "code",
   "execution_count": 1,
   "metadata": {},
   "outputs": [
    {
     "name": "stdout",
     "output_type": "stream",
     "text": [
      "Error: list index out of range\n"
     ]
    }
   ],
   "source": [
    "l1 = [[0] for i in range(5)]\n",
    "\n",
    "try:\n",
    "    print(l1[7])\n",
    "except IndexError: # as r:\n",
    "    print(\"Error: list index out of range\")\n",
    "    #print(r)"
   ]
  },
  {
   "cell_type": "markdown",
   "metadata": {},
   "source": [
    "# Exersize 2"
   ]
  },
  {
   "cell_type": "code",
   "execution_count": 2,
   "metadata": {},
   "outputs": [
    {
     "name": "stdout",
     "output_type": "stream",
     "text": [
      "Index:  0   Value:  Monday\n",
      "Index:  1   Value:  Tuesday\n",
      "Index:  2   Value:  Wednesday\n",
      "Index:  3   Value:  Thursday\n",
      "Index:  4 Error: list index out of range\n",
      "Index:  5 Error: list index out of range\n",
      "Index:  6 Error: list index out of range\n"
     ]
    }
   ],
   "source": [
    "list1 = [\"Monday\", \"Tuesday\", \"Wednesday\", \"Thursday\"]\n",
    "for i in range(7):\n",
    "    try:\n",
    "        print(\"Index: \", i, \"  Value: \", list1[i])\n",
    "    except IndexError:\n",
    "        print(\"Index: \", i, \"Error: list index out of range\")"
   ]
  },
  {
   "cell_type": "markdown",
   "metadata": {},
   "source": [
    "# Exersize 3"
   ]
  },
  {
   "cell_type": "code",
   "execution_count": 5,
   "metadata": {},
   "outputs": [
    {
     "name": "stdout",
     "output_type": "stream",
     "text": [
      "5\n",
      "0\n",
      "Error:  division by zero\n"
     ]
    }
   ],
   "source": [
    "for i in range(3): #ինչ կապ ունի i-ը ??? \n",
    "    try:\n",
    "        x = int(input())\n",
    "        y = int(input())\n",
    "        print(x, \"/\", y, \"=\", x/y)\n",
    "    except ZeroDivisionError as e:\n",
    "        print(\"Error: \",e)\n",
    "    except ValueError as e:\n",
    "        print(e)\n",
    "    except Exception as e:\n",
    "        print(e) \n"
   ]
  },
  {
   "cell_type": "markdown",
   "metadata": {},
   "source": [
    "# Exersize 4"
   ]
  },
  {
   "cell_type": "code",
   "execution_count": 24,
   "metadata": {},
   "outputs": [
    {
     "name": "stdout",
     "output_type": "stream",
     "text": [
      "AttributeError\n",
      "AttributeError\n"
     ]
    }
   ],
   "source": [
    "a = 10\n",
    "try:\n",
    "    #import Vacho\n",
    "    print(a.name)\n",
    "#except AttributeError as e:\n",
    "    #print(\"Error message: \", \"'int' object has no attribute 'name'\")\n",
    "except Exception as e:\n",
    "    print(type(e).__name__)\n",
    "    print(e.__class__.__name__)\n",
    "    #print(e)"
   ]
  }
 ],
 "metadata": {
  "kernelspec": {
   "display_name": "Python 3",
   "language": "python",
   "name": "python3"
  }
 },
 "nbformat": 4,
 "nbformat_minor": 2
}
