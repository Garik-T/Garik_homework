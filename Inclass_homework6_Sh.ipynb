{
 "cells": [
  {
   "cell_type": "markdown",
   "metadata": {},
   "source": [
    "# Exersize 1"
   ]
  },
  {
   "cell_type": "code",
   "execution_count": 10,
   "metadata": {},
   "outputs": [
    {
     "name": "stdout",
     "output_type": "stream",
     "text": [
      "No module named 'Vacho'\n"
     ]
    }
   ],
   "source": [
    "try:\n",
    "    import Vacho\n",
    "    \n",
    "except ModuleNotFoundError as e:\n",
    "    print(e)\n",
    "    \n",
    "#except Exception as e:\n",
    "    #print(e)\n",
    "    "
   ]
  },
  {
   "cell_type": "markdown",
   "metadata": {},
   "source": [
    "# Exersize 2"
   ]
  },
  {
   "cell_type": "code",
   "execution_count": 16,
   "metadata": {},
   "outputs": [
    {
     "name": "stdout",
     "output_type": "stream",
     "text": [
      "The entry is:  a\n",
      "Oops!  unsupported operand type(s) for /: 'int' and 'str'\n",
      "The entry is:  0\n",
      "Oops!  division by zero\n",
      "The entry is:  2\n",
      "The reciprocal of  0.5\n"
     ]
    }
   ],
   "source": [
    "l1 = [\"a\", 0, 2]\n",
    "for i in l1:\n",
    "    try:\n",
    "        print(\"The entry is: \", i)\n",
    "        print(\"The reciprocal of \", 1/i)\n",
    "    except Exception as e:\n",
    "        print(\"Oops! \", e)\n",
    "        \n",
    "        "
   ]
  },
  {
   "cell_type": "markdown",
   "metadata": {},
   "source": [
    "# Exersize 3"
   ]
  },
  {
   "cell_type": "code",
   "execution_count": 6,
   "metadata": {},
   "outputs": [
    {
     "ename": "SyntaxError",
     "evalue": "unexpected EOF while parsing (<ipython-input-6-76b2ec43a4e0>, line 10)",
     "output_type": "error",
     "traceback": [
      "\u001b[1;36m  File \u001b[1;32m\"<ipython-input-6-76b2ec43a4e0>\"\u001b[1;36m, line \u001b[1;32m10\u001b[0m\n\u001b[1;33m    #print(e)\u001b[0m\n\u001b[1;37m             ^\u001b[0m\n\u001b[1;31mSyntaxError\u001b[0m\u001b[1;31m:\u001b[0m unexpected EOF while parsing\n"
     ]
    }
   ],
   "source": [
    "class MyException(Exception):\n",
    "    pass\n",
    "        \n",
    "try:\n",
    "    username = input(\"Username: \")\n",
    "    \n",
    "    if username == \"Rambo\":\n",
    "        raise MyException(\"Rambo is an invalid username\")\n",
    "    \n",
    "except MyException as e:\n",
    "    print(e)\n",
    "\n"
   ]
  },
  {
   "cell_type": "code",
   "execution_count": null,
   "metadata": {},
   "outputs": [],
   "source": []
  }
 ],
 "metadata": {
  "kernelspec": {
   "display_name": "Python 3",
   "language": "python",
   "name": "python3"
  }
 },
 "nbformat": 4,
 "nbformat_minor": 2
}
