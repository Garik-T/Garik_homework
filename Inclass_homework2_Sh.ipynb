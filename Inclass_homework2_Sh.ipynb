{
 "cells": [
  {
   "cell_type": "code",
   "execution_count": 79,
   "metadata": {},
   "outputs": [
    {
     "name": "stdout",
     "output_type": "stream",
     "text": [
      "[1, 4, 5, 7, 8, -2, 0, -1]\n"
     ]
    }
   ],
   "source": [
    "a = [1, 4, 5, 7, 8, -2, 0, -1]\n",
    "print(a)"
   ]
  },
  {
   "cell_type": "code",
   "execution_count": 80,
   "metadata": {},
   "outputs": [
    {
     "name": "stdout",
     "output_type": "stream",
     "text": [
      "3rd member:  5 \n",
      "5th member:  8\n"
     ]
    }
   ],
   "source": [
    "print(\"3rd member: \", a[2], \"\\n5th member: \", a[4])"
   ]
  },
  {
   "cell_type": "code",
   "execution_count": 81,
   "metadata": {},
   "outputs": [
    {
     "name": "stdout",
     "output_type": "stream",
     "text": [
      "[1, 4, 5, 7, 8, -2, 0, -1]\n",
      "[8, 7, 5, 4, 1, 0, -1, -2]\n"
     ]
    }
   ],
   "source": [
    "a_sorted = sorted(a, reverse = True)\n",
    "print(a)\n",
    "print(a_sorted)"
   ]
  },
  {
   "cell_type": "code",
   "execution_count": 82,
   "metadata": {},
   "outputs": [
    {
     "name": "stdout",
     "output_type": "stream",
     "text": [
      "1...3:  [8, 7, 5] \n",
      "2...6:  [7, 5, 4, 1, 0]\n"
     ]
    }
   ],
   "source": [
    "print(\"1...3: \", a_sorted[:3], \"\\n2...6: \", a_sorted[1:6])"
   ]
  },
  {
   "cell_type": "code",
   "execution_count": 83,
   "metadata": {},
   "outputs": [
    {
     "name": "stdout",
     "output_type": "stream",
     "text": [
      "[8, 7, 5, 4, 1, 0, -1, -2]\n",
      "2\n"
     ]
    }
   ],
   "source": [
    "print(a_sorted)\n",
    "print(a_sorted.index(5))"
   ]
  },
  {
   "cell_type": "code",
   "execution_count": 84,
   "metadata": {},
   "outputs": [
    {
     "name": "stdout",
     "output_type": "stream",
     "text": [
      "[8, 7, 5, 4, 1, 0, -1, -2]\n",
      "[8, 7, 1, 0, -1, -2]\n"
     ]
    }
   ],
   "source": [
    "print(a_sorted)\n",
    "a_sorted.pop(2)\n",
    "a_sorted.pop(2)\n",
    "print(a_sorted)"
   ]
  },
  {
   "cell_type": "code",
   "execution_count": 97,
   "metadata": {},
   "outputs": [
    {
     "name": "stdout",
     "output_type": "stream",
     "text": [
      "['grapes', 'Potatoes', 'tomatoes', 'Orange', 'Lemon', 'Broccoli', 'Carrot', 'Sausages'] \n",
      " ['Broccoli', 'Carrot', 'Lemon', 'Orange', 'Potatoes', 'Sausages', 'grapes', 'tomatoes']\n"
     ]
    }
   ],
   "source": [
    "b = [\"grapes\", \"Potatoes\", \"tomatoes\", \"Orange\", \"Lemon\", \"Broccoli\", \"Carrot\", \"Sausages\"]\n",
    "b_sorted = sorted(b)\n",
    "print(b, \"\\n\",b_sorted)"
   ]
  },
  {
   "cell_type": "code",
   "execution_count": 105,
   "metadata": {},
   "outputs": [
    {
     "name": "stdout",
     "output_type": "stream",
     "text": [
      "[1, 4, 5, 'Lemon', 'Broccoli', 'Carrot']\n"
     ]
    }
   ],
   "source": [
    "c = a[:3] + b[4:7]\n",
    "print(c)"
   ]
  },
  {
   "cell_type": "code",
   "execution_count": 130,
   "metadata": {},
   "outputs": [
    {
     "data": {
      "text/plain": [
       "{-3, -5, 10, 14, 8, 'Chocolate', 'Cookies', False, 'Jelly', 'Milk', True}"
      ]
     },
     "execution_count": 130,
     "metadata": {},
     "output_type": "execute_result"
    }
   ],
   "source": [
    "a1 = [\"Cookies\", \"Chocolate\", 8, True, -3, -5, \"Chocolate\", 8, False, 8]\n",
    "b1 = [8, True, 10, 14,\"Chocolate\", \"Milk\", \"Jelly\", True, False, True]\n",
    "set_a = set(a1)\n",
    "set_b = set(b1)\n",
    "union_ab = set_a.union(set_b)\n",
    "intersection_ab = set_a.intersection(set_b)\n",
    "union_ab"
   ]
  },
  {
   "cell_type": "code",
   "execution_count": 131,
   "metadata": {},
   "outputs": [
    {
     "ename": "SyntaxError",
     "evalue": "invalid syntax (<ipython-input-131-d18635090e1e>, line 1)",
     "output_type": "error",
     "traceback": [
      "\u001b[1;36m  File \u001b[1;32m\"<ipython-input-131-d18635090e1e>\"\u001b[1;36m, line \u001b[1;32m1\u001b[0m\n\u001b[1;33m    miangamic?????\u001b[0m\n\u001b[1;37m             ^\u001b[0m\n\u001b[1;31mSyntaxError\u001b[0m\u001b[1;31m:\u001b[0m invalid syntax\n"
     ]
    }
   ],
   "source": [
    "miangamic?????"
   ]
  },
  {
   "cell_type": "code",
   "execution_count": 133,
   "metadata": {},
   "outputs": [
    {
     "name": "stdout",
     "output_type": "stream",
     "text": [
      "{False, True, 'Kit_Kat', 8, 10, 'Jelly', 14, 'Milk', 'Oreo', 'Chocolate', 'Cookies', -5, -3}\n"
     ]
    }
   ],
   "source": [
    "union_ab.add(\"Kit_Kat\")\n",
    "union_ab.add(\"Oreo\")\n",
    "print(union_ab)"
   ]
  },
  {
   "cell_type": "code",
   "execution_count": 134,
   "metadata": {},
   "outputs": [
    {
     "name": "stdout",
     "output_type": "stream",
     "text": [
      "{False, True, 8, 10, 'Jelly', 14, 'Milk', 'Chocolate', 'Cookies', -5, -3}\n"
     ]
    }
   ],
   "source": [
    "new_set = unioin_ab | intersection_ab\n",
    "print(new_set)"
   ]
  },
  {
   "cell_type": "code",
   "execution_count": 135,
   "metadata": {},
   "outputs": [
    {
     "data": {
      "text/plain": [
       "True"
      ]
     },
     "execution_count": 135,
     "metadata": {},
     "output_type": "execute_result"
    }
   ],
   "source": [
    "\"Chocolate\" in new_set"
   ]
  },
  {
   "cell_type": "code",
   "execution_count": 136,
   "metadata": {},
   "outputs": [
    {
     "ename": "KeyError",
     "evalue": "'Oreo'",
     "output_type": "error",
     "traceback": [
      "\u001b[1;31m---------------------------------------------------------------------------\u001b[0m",
      "\u001b[1;31mKeyError\u001b[0m                                  Traceback (most recent call last)",
      "\u001b[1;32m<ipython-input-136-ec343bc7ed8a>\u001b[0m in \u001b[0;36m<module>\u001b[1;34m()\u001b[0m\n\u001b[1;32m----> 1\u001b[1;33m \u001b[0mnew_set\u001b[0m\u001b[1;33m.\u001b[0m\u001b[0mremove\u001b[0m\u001b[1;33m(\u001b[0m\u001b[1;34m\"Oreo\"\u001b[0m\u001b[1;33m)\u001b[0m\u001b[1;33m\u001b[0m\u001b[0m\n\u001b[0m\u001b[0;32m      2\u001b[0m \u001b[0mprint\u001b[0m\u001b[1;33m(\u001b[0m\u001b[0mnew_set\u001b[0m\u001b[1;33m)\u001b[0m\u001b[1;33m\u001b[0m\u001b[0m\n",
      "\u001b[1;31mKeyError\u001b[0m: 'Oreo'"
     ]
    }
   ],
   "source": [
    "new_set.remove(\"Oreo\")\n",
    "print(new_set)"
   ]
  },
  {
   "cell_type": "code",
   "execution_count": null,
   "metadata": {},
   "outputs": [],
   "source": []
  }
 ],
 "metadata": {
  "kernelspec": {
   "display_name": "Python 3",
   "language": "python",
   "name": "python3"
  },
  "language_info": {
   "codemirror_mode": {
    "name": "ipython",
    "version": 3
   },
   "file_extension": ".py",
   "mimetype": "text/x-python",
   "name": "python",
   "nbconvert_exporter": "python",
   "pygments_lexer": "ipython3",
   "version": "3.6.5"
  }
 },
 "nbformat": 4,
 "nbformat_minor": 2
}
