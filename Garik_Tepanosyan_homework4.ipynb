{
 "cells": [
  {
   "cell_type": "markdown",
   "metadata": {},
   "source": [
    "# Exersize 1"
   ]
  },
  {
   "cell_type": "code",
   "execution_count": 2,
   "metadata": {},
   "outputs": [
    {
     "name": "stdout",
     "output_type": "stream",
     "text": [
      "Century:  506\n"
     ]
    }
   ],
   "source": [
    "def give_century(year):\n",
    "    for century in range (1, int(year/100 + 2)):\n",
    "        if year / 100 <= century:\n",
    "            print(\"Century: \", century)\n",
    "            break\n",
    "\n",
    "give_century(50564)"
   ]
  },
  {
   "cell_type": "markdown",
   "metadata": {},
   "source": [
    "# Exersize 2"
   ]
  },
  {
   "cell_type": "code",
   "execution_count": null,
   "metadata": {},
   "outputs": [],
   "source": [
    "def palindrome(inpStr):\n",
    "    l1 = list(inpStr)\n",
    "    for i in range(len(l1)):\n",
    "        if l1[i] == l1[len(l1) - i - 1]:\n",
    "            palindrome = True\n",
    "        else:\n",
    "            palindrome = False\n",
    "    print(palindrome)\n",
    "\n",
    "palindrome(\"anna\")       \n",
    "        "
   ]
  },
  {
   "cell_type": "markdown",
   "metadata": {},
   "source": [
    "# Exersize 3"
   ]
  },
  {
   "cell_type": "code",
   "execution_count": null,
   "metadata": {},
   "outputs": [],
   "source": [
    "def greatProd(inp_array):\n",
    "    pair = []\n",
    "    products = []\n",
    "    for i in range(len(inp_array)):\n",
    "        j = i + 1\n",
    "        k = 0\n",
    "        while j <= len(inp_array) - 1:\n",
    "            pair.append([inp_array[i], inp_array[j]])\n",
    "            x = pair[k][0] * pair[k][1]\n",
    "            products.append(x)\n",
    "            j += 1\n",
    "            k += 1\n",
    "    max_prod_index = products.index(max(products))\n",
    "    print(\"Pair: \", pair[max_prod_index], \"Greatest product: \", max(products))\n",
    "\n",
    "\n",
    "y = [99, -1, 2, 3, 11, 24, 66]\n",
    "greatProd(y)"
   ]
  },
  {
   "cell_type": "code",
   "execution_count": null,
   "metadata": {},
   "outputs": [],
   "source": [
    "def greatProd(inp_array):\n",
    "    pair = []\n",
    "    products = []\n",
    "    for i in range(len(inp_array)):\n",
    "        j = i + 1\n",
    "        while j <= len(inp_array)-1:\n",
    "            pair.append([inp_array[i], inp_array[j]])\n",
    "            j = j + 1\n",
    "    for k in range(len(pair)):\n",
    "        x = pair[k][0] * pair[k][1]\n",
    "        products.append(x)\n",
    "        max_prod_index = products.index(max(products))\n",
    "    print(\"Pair: \", pair[max_prod_index], \"Greatest product: \", max(products))\n",
    "\n",
    "y = [99, -1, 2, 3, 11, 24, 66]\n",
    "greatProd(y)"
   ]
  }
 ],
 "metadata": {
  "kernelspec": {
   "display_name": "Python 3",
   "language": "python",
   "name": "python3"
  },
  "language_info": {
   "codemirror_mode": {
    "name": "ipython",
    "version": 3
   },
   "file_extension": ".py",
   "mimetype": "text/x-python",
   "name": "python",
   "nbconvert_exporter": "python",
   "pygments_lexer": "ipython3",
   "version": "3.6.5"
  }
 },
 "nbformat": 4,
 "nbformat_minor": 2
}
