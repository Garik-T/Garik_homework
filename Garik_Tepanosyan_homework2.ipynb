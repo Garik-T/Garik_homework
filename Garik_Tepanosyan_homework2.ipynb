{
 "cells": [
  {
   "cell_type": "code",
   "execution_count": 3,
   "metadata": {},
   "outputs": [
    {
     "name": "stdout",
     "output_type": "stream",
     "text": [
      "User: aaaasfsgfqwvbabbbwnkccc\n",
      "A:  5\n",
      "B:  4\n",
      "C:  3\n",
      "D:  0\n"
     ]
    }
   ],
   "source": [
    "inp_txt = input(\"User: \")\n",
    "inp_txt_upper = inp_txt.upper()\n",
    "print(\"A: \", inp_txt_upper.count(\"A\"))\n",
    "print(\"B: \", inp_txt_upper.count(\"B\"))\n",
    "print(\"C: \", inp_txt_upper.count(\"C\"))\n",
    "print(\"D: \", inp_txt_upper.count(\"D\"))"
   ]
  },
  {
   "cell_type": "code",
   "execution_count": null,
   "metadata": {},
   "outputs": [],
   "source": []
  }
 ],
 "metadata": {
  "kernelspec": {
   "display_name": "Python 3",
   "language": "python",
   "name": "python3"
  },
  "language_info": {
   "codemirror_mode": {
    "name": "ipython",
    "version": 3
   },
   "file_extension": ".py",
   "mimetype": "text/x-python",
   "name": "python",
   "nbconvert_exporter": "python",
   "pygments_lexer": "ipython3",
   "version": "3.6.5"
  }
 },
 "nbformat": 4,
 "nbformat_minor": 2
}
