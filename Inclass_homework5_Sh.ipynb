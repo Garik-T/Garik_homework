{
 "cells": [
  {
   "cell_type": "code",
   "execution_count": 31,
   "metadata": {},
   "outputs": [
    {
     "name": "stdout",
     "output_type": "stream",
     "text": [
      "['Anna', 'Edgar']\n",
      "['Anna', 'Edgar', 'Eliza', 'Ani', 'Vardan']\n",
      "None\n"
     ]
    }
   ],
   "source": [
    "list1 = [\"Anna\", \"Edgar\"]\n",
    "list2 = [\"Eliza\", \"Ani\", \"Vardan\"]\n",
    "\n",
    "\n",
    "def decorator(func):\n",
    "    def wrapper():\n",
    "        print(list1)\n",
    "        func(list2)\n",
    "        print(list1)\n",
    "    return wrapper\n",
    "\n",
    "@decorator\n",
    "def add_values(list2):\n",
    "    list1.extend(list2)\n",
    "    return list1\n",
    "\n",
    "x = add_values()\n",
    "print(x)\n"
   ]
  },
  {
   "cell_type": "code",
   "execution_count": null,
   "metadata": {},
   "outputs": [],
   "source": []
  }
 ],
 "metadata": {
  "kernelspec": {
   "display_name": "Python 3",
   "language": "python",
   "name": "python3"
  },
  "language_info": {
   "codemirror_mode": {
    "name": "ipython",
    "version": 3
   },
   "file_extension": ".py",
   "mimetype": "text/x-python",
   "name": "python",
   "nbconvert_exporter": "python",
   "pygments_lexer": "ipython3",
   "version": "3.6.5"
  }
 },
 "nbformat": 4,
 "nbformat_minor": 2
}
