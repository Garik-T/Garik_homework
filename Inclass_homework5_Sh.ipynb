{
 "cells": [
  {
   "cell_type": "markdown",
   "metadata": {},
   "source": [
    "# Exersize 1"
   ]
  },
  {
   "cell_type": "code",
   "execution_count": 15,
   "metadata": {},
   "outputs": [
    {
     "name": "stdout",
     "output_type": "stream",
     "text": [
      "['Anna', 'Edgar']\n",
      "['Anna', 'Edgar', 'Eliza', 'Ani', 'Vardan']\n"
     ]
    }
   ],
   "source": [
    "list1 = [\"Anna\", \"Edgar\"]\n",
    "list2 = [\"Eliza\", \"Ani\", \"Vardan\"]\n",
    "\n",
    "\n",
    "def decorator(func):\n",
    "    def wrapper(*args, **kwargs):\n",
    "        print(list1)\n",
    "        func(*args, **kwargs)\n",
    "        print(list1)\n",
    "    return wrapper\n",
    "\n",
    "@decorator\n",
    "def add_values(list):\n",
    "    list1.extend(list)\n",
    "    return list1\n",
    "\n",
    "add_values(list2)"
   ]
  },
  {
   "cell_type": "markdown",
   "metadata": {},
   "source": [
    "# Exersize 2"
   ]
  },
  {
   "cell_type": "code",
   "execution_count": 34,
   "metadata": {},
   "outputs": [
    {
     "name": "stdout",
     "output_type": "stream",
     "text": [
      "Hi everyone!!! welcome to the party.\n"
     ]
    }
   ],
   "source": [
    "def lower_case(func):\n",
    "    def wrapper(*args, **kwargs):\n",
    "        return func(*args, **kwargs)[0] + func(*args, **kwargs)[1:].lower()\n",
    "    return wrapper\n",
    "\n",
    "def exp(func):\n",
    "    def wrapper(*args, **kwargs):\n",
    "        return func(*args, **kwargs) + \"!!! Welcome to the party.\"\n",
    "    return wrapper\n",
    "\n",
    "@lower_case\n",
    "@exp\n",
    "def greetings():\n",
    "    return \"HI EVERYONE\"\n",
    "\n",
    "x = greetings()\n",
    "print(x)\n",
    "    "
   ]
  },
  {
   "cell_type": "markdown",
   "metadata": {},
   "source": [
    "# Exersize 3"
   ]
  },
  {
   "cell_type": "code",
   "execution_count": 43,
   "metadata": {},
   "outputs": [
    {
     "name": "stdout",
     "output_type": "stream",
     "text": [
      "1\n"
     ]
    }
   ],
   "source": [
    "def power(max):\n",
    "     for i in range(max+1):\n",
    "        yield (2**i)\n",
    "\n",
    "my_nums = power(3)\n",
    "\n",
    "print(next(my_nums))\n",
    "#print(list(my_nums))"
   ]
  }
 ],
 "metadata": {
  "kernelspec": {
   "display_name": "Python 3",
   "language": "python",
   "name": "python3"
  },
  "language_info": {
   "codemirror_mode": {
    "name": "ipython",
    "version": 3
   },
   "file_extension": ".py",
   "mimetype": "text/x-python",
   "name": "python",
   "nbconvert_exporter": "python",
   "pygments_lexer": "ipython3",
   "version": "3.6.5"
  }
 },
 "nbformat": 4,
 "nbformat_minor": 2
}
