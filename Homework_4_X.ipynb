{
 "cells": [
  {
   "cell_type": "code",
   "execution_count": null,
   "metadata": {},
   "outputs": [],
   "source": [
    "[~`!@\\#\\$%\\^&\\*\\(\\)\\+=_-\\{\\}\\[\\]\\\\\\|:;”’\\?/<>,\\.]+"
   ]
  },
  {
   "cell_type": "code",
   "execution_count": 15,
   "metadata": {},
   "outputs": [
    {
     "name": "stdout",
     "output_type": "stream",
     "text": [
      "Enter login: gdfgfgdf@gmail.com\n",
      "Enter password: dghfdsjgf^&\\\\\\\n",
      "By\n"
     ]
    }
   ],
   "source": [
    "import re\n",
    "login = re.match(r\"[a-z]+.*@gmail\\.com$\", input(\"Enter login: \"))\n",
    "password = re.match(r\"([a-zA-Z0-9]+[~`!@\\#\\$%\\^&\\*\\(\\)\\+=_-\\{\\}\\[\\]\\\\\\|:;”’\\?/<>,\\.]+){8,}\", input(\"Enter password: \")) \n",
    "\n",
    "if login and password:\n",
    "    print(\"Hello\")\n",
    "else:\n",
    "    print(\"By\")"
   ]
  },
  {
   "cell_type": "code",
   "execution_count": null,
   "metadata": {},
   "outputs": [],
   "source": [
    "https://unix.stackexchange.com/questions/391866/regex-for-password-restricting-special-characters\n",
    "https://stackoverflow.com/questions/22204836/regex-to-find-3-out-of-4-conditions"
   ]
  }
 ],
 "metadata": {
  "kernelspec": {
   "display_name": "Python 3",
   "language": "python",
   "name": "python3"
  },
  "language_info": {
   "codemirror_mode": {
    "name": "ipython",
    "version": 3
   },
   "file_extension": ".py",
   "mimetype": "text/x-python",
   "name": "python",
   "nbconvert_exporter": "python",
   "pygments_lexer": "ipython3",
   "version": "3.6.5"
  }
 },
 "nbformat": 4,
 "nbformat_minor": 2
}
