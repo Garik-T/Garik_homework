{
 "cells": [
  {
   "cell_type": "code",
   "execution_count": null,
   "metadata": {},
   "outputs": [],
   "source": [
    "[~`!@\\#\\$%\\^&\\*\\(\\)\\+=_-\\{\\}\\[\\]\\\\\\|:;”’\\?/<>,\\.]+"
   ]
  },
  {
   "cell_type": "code",
   "execution_count": 15,
   "metadata": {},
   "outputs": [
    {
     "name": "stdout",
     "output_type": "stream",
     "text": [
      "Enter login: gdfgfgdf@gmail.com\n",
      "Enter password: dghfdsjgf^&\\\\\\\n",
      "By\n"
     ]
    }
   ],
   "source": [
    "import re\n",
    "up_l = r\"[A-Z]\"\n",
    "low_l = r\"[a-z]\"\n",
    "dig = r\"[0-9]\"\n",
    "sp_char = r\"[~`!@#$%^&*()+=_-{}[]\\|:;”’?/<>,.]\" \n",
    "\n",
    "login = re.match(r\"[a-z]+.*@gmail\\.com$\", input(\"Enter login: \"))\n",
    "#password = re.match(r\"([a-zA-Z0-9]+[~`!@\\#\\$%\\^&\\*\\(\\)\\+=_-\\{\\}\\[\\]\\\\\\|:;”’\\?/<>,\\.]+){8,}\", input(\"Enter password: \")) \n",
    "password = re.match(r\"up_l{8,}\", input(\"Enter password: \"))\n",
    "if login and password:\n",
    "    print(\"Hello\")\n",
    "else:\n",
    "    print(\"By\")"
   ]
  },
  {
   "cell_type": "code",
   "execution_count": 16,
   "metadata": {},
   "outputs": [
    {
     "ename": "SyntaxError",
     "evalue": "invalid syntax (<ipython-input-16-02f8a8e8f3eb>, line 1)",
     "output_type": "error",
     "traceback": [
      "\u001b[1;36m  File \u001b[1;32m\"<ipython-input-16-02f8a8e8f3eb>\"\u001b[1;36m, line \u001b[1;32m1\u001b[0m\n\u001b[1;33m    https://unix.stackexchange.com/questions/391866/regex-for-password-restricting-special-characters\u001b[0m\n\u001b[1;37m           ^\u001b[0m\n\u001b[1;31mSyntaxError\u001b[0m\u001b[1;31m:\u001b[0m invalid syntax\n"
     ]
    }
   ],
   "source": [
    "https://unix.stackexchange.com/questions/391866/regex-for-password-restricting-special-characters\n",
    "https://stackoverflow.com/questions/22204836/regex-to-find-3-out-of-4-conditions"
   ]
  },
  {
   "cell_type": "code",
   "execution_count": 114,
   "metadata": {},
   "outputs": [
    {
     "name": "stdout",
     "output_type": "stream",
     "text": [
      "<_sre.SRE_Match object; span=(0, 0), match=''>\n"
     ]
    }
   ],
   "source": [
    "import re\n",
    "sp_char = re.search(r\"(~`!@#\\$%\\^&\\*\\(\\)\\+=_-\\{\\}\\[]\\\\|:;”’\\?/<>,.)?\", \".\\\\]]]\") # \\ ?\n",
    "\n",
    "print(sp_char)   \n"
   ]
  },
  {
   "cell_type": "code",
   "execution_count": null,
   "metadata": {},
   "outputs": [],
   "source": []
  }
 ],
 "metadata": {
  "kernelspec": {
   "display_name": "Python 3",
   "language": "python",
   "name": "python3"
  },
  "language_info": {
   "codemirror_mode": {
    "name": "ipython",
    "version": 3
   },
   "file_extension": ".py",
   "mimetype": "text/x-python",
   "name": "python",
   "nbconvert_exporter": "python",
   "pygments_lexer": "ipython3",
   "version": "3.6.5"
  }
 },
 "nbformat": 4,
 "nbformat_minor": 2
}
