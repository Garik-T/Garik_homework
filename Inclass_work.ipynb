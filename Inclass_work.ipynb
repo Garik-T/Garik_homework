{
 "cells": [
  {
   "cell_type": "code",
   "execution_count": 1,
   "metadata": {},
   "outputs": [
    {
     "data": {
      "text/plain": [
       "1"
      ]
     },
     "execution_count": 1,
     "metadata": {},
     "output_type": "execute_result"
    }
   ],
   "source": [
    "a = 1\n",
    "b = \"Garik\"\n",
    "a, b = [1, \"Garik\"]\n",
    "a, b = 1, \"Garik\""
   ]
  },
  {
   "cell_type": "code",
   "execution_count": 17,
   "metadata": {},
   "outputs": [
    {
     "name": "stdout",
     "output_type": "stream",
     "text": [
      "course:  Intro to Python\n",
      "tudent:  Garik Tepanosyan\n",
      "nickname : GT\n",
      "grade:  100\n",
      "pythonExpert:  True\n"
     ]
    }
   ],
   "source": [
    "course = \"Intro to Python\"\n",
    "student = \"Garik Tepanosyan\"\n",
    "nickname = \"GT\"\n",
    "grade = 100\n",
    "pythonExpert = True\n",
    "print(\"course: \", course)\n",
    "print(\"tudent: \", student)\n",
    "print(\"nickname :\" , nickname)\n",
    "print(\"grade: \", grade)\n",
    "print(\"pythonExpert: \", pythonExpert)"
   ]
  },
  {
   "cell_type": "code",
   "execution_count": 20,
   "metadata": {},
   "outputs": [
    {
     "name": "stdout",
     "output_type": "stream",
     "text": [
      "The hypotenuse of the triangle ABC =  5.0\n"
     ]
    }
   ],
   "source": [
    "import math\n",
    "AB = 3\n",
    "AC = 4\n",
    "BC = math.sqrt(AB**2 + AC**2)\n",
    "print(\"The hypotenuse of the triangle ABC = \", BC)"
   ]
  },
  {
   "cell_type": "code",
   "execution_count": 24,
   "metadata": {},
   "outputs": [
    {
     "name": "stdout",
     "output_type": "stream",
     "text": [
      "Date and time:  Tue Sep 18 20:42:01 2018\n",
      "Year:  2018\n",
      "Month:  9\n",
      "Day:  18\n",
      "Day of the week:  2\n"
     ]
    }
   ],
   "source": [
    "import datetime, time, calendar\n",
    "localtime = time.asctime()\n",
    "tday = datetime.date.today()\n",
    "print('Date and time: ', localtime)\n",
    "print('Year: ', tday.year)\n",
    "print('Month: ', tday.month)\n",
    "print('Day: ', tday.day)\n",
    "print('Day of the week: ', tday.isoweekday())"
   ]
  },
  {
   "cell_type": "code",
   "execution_count": 26,
   "metadata": {},
   "outputs": [
    {
     "name": "stdout",
     "output_type": "stream",
     "text": [
      "Date today - 5 days:  2018-09-13\n"
     ]
    }
   ],
   "source": [
    "tdelta = datetime.timedelta(days = 5)\n",
    "print('Date today - 5 days: ', tday - tdelta)"
   ]
  },
  {
   "cell_type": "code",
   "execution_count": null,
   "metadata": {},
   "outputs": [],
   "source": []
  }
 ],
 "metadata": {
  "kernelspec": {
   "display_name": "Python 3",
   "language": "python",
   "name": "python3"
  },
  "language_info": {
   "codemirror_mode": {
    "name": "ipython",
    "version": 3
   },
   "file_extension": ".py",
   "mimetype": "text/x-python",
   "name": "python",
   "nbconvert_exporter": "python",
   "pygments_lexer": "ipython3",
   "version": "3.6.5"
  }
 },
 "nbformat": 4,
 "nbformat_minor": 2
}
