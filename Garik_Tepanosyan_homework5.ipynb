{
 "cells": [
  {
   "cell_type": "code",
   "execution_count": 6,
   "metadata": {},
   "outputs": [
    {
     "name": "stdout",
     "output_type": "stream",
     "text": [
      "Welcome dear Mari\n",
      "time:  0.0\n",
      "Bye everyone!\n",
      "My favorite number is 5\n"
     ]
    }
   ],
   "source": [
    "import time\n",
    "\n",
    "def decorator(func):\n",
    "    def wrapper(*args, **kwargs):\n",
    "        t1 = time.time()\n",
    "        func(*args, **kwargs)\n",
    "        t2 = time.time()\n",
    "        print('time: ', t2-t1)\n",
    "    return wrapper\n",
    "\n",
    "\n",
    "class Person:\n",
    "    def __init__(self, name, last_name, age, gender, student):\n",
    "        self.name = name\n",
    "        self.las_name = last_name\n",
    "        self.age = age\n",
    "        self.gender = gender\n",
    "        self.student = student\n",
    "        \n",
    "    @decorator\n",
    "    def Greeting(self):  #second_person as an atribute ...?????\n",
    "        self.second_person = self.name\n",
    "        print(\"Welcome dear \" + self.second_person)\n",
    "        \n",
    "    def Goodbye(self):\n",
    "        print(\"Bye everyone!\")\n",
    "        \n",
    "    def Favourite_num(self, num1):\n",
    "        self.num1 = num1\n",
    "        print(\"My favorite number is \" + str(self.num1))\n",
    "\n",
    "pers1 = Person(\"Mari\", \"Lili\", 25, \"Female\", True)\n",
    "pers1.Greeting()\n",
    "pers1.Goodbye()\n",
    "pers1.Favourite_num(5)"
   ]
  },
  {
   "cell_type": "code",
   "execution_count": null,
   "metadata": {},
   "outputs": [],
   "source": []
  }
 ],
 "metadata": {
  "kernelspec": {
   "display_name": "Python 3",
   "language": "python",
   "name": "python3"
  },
  "language_info": {
   "codemirror_mode": {
    "name": "ipython",
    "version": 3
   },
   "file_extension": ".py",
   "mimetype": "text/x-python",
   "name": "python",
   "nbconvert_exporter": "python",
   "pygments_lexer": "ipython3",
   "version": "3.6.5"
  }
 },
 "nbformat": 4,
 "nbformat_minor": 2
}
