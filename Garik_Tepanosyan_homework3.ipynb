{
 "cells": [
  {
   "cell_type": "markdown",
   "metadata": {},
   "source": [
    "# Exersize 1"
   ]
  },
  {
   "cell_type": "code",
   "execution_count": 4,
   "metadata": {},
   "outputs": [
    {
     "name": "stdout",
     "output_type": "stream",
     "text": [
      "6\n"
     ]
    }
   ],
   "source": [
    "list1 = [3, 6, True, True, -1, \"abc\", (1, 2),[2, 3], 6]\n",
    "for i in range(len(list1)):\n",
    "    if type(list1[i]) is tuple:\n",
    "        print(i)\n",
    "        break\n",
    "    i += 1"
   ]
  },
  {
   "cell_type": "markdown",
   "metadata": {},
   "source": [
    "# Exersize 2 ????"
   ]
  },
  {
   "cell_type": "code",
   "execution_count": 15,
   "metadata": {
    "scrolled": true
   },
   "outputs": [
    {
     "ename": "SyntaxError",
     "evalue": "can't assign to operator (<ipython-input-15-b088ae3a43f2>, line 4)",
     "output_type": "error",
     "traceback": [
      "\u001b[1;36m  File \u001b[1;32m\"<ipython-input-15-b088ae3a43f2>\"\u001b[1;36m, line \u001b[1;32m4\u001b[0m\n\u001b[1;33m    password = input(\"Enter username\") and username = input(\"Enter username\")\u001b[0m\n\u001b[1;37m              ^\u001b[0m\n\u001b[1;31mSyntaxError\u001b[0m\u001b[1;31m:\u001b[0m can't assign to operator\n"
     ]
    }
   ],
   "source": [
    "password = \"Batman\"\n",
    "username = \"I am Batman\"\n",
    "while password != \"Batman\" and username != \"I am Batman\":\n",
    "    password = input(\"Enter username\") and username = input(\"Enter username\")\n",
    "    if password == \"Batman\" and username == \"I am Batman\":\n",
    "        print(\"Welcome\")\n",
    "        break"
   ]
  },
  {
   "cell_type": "raw",
   "metadata": {},
   "source": [
    "# Exersize 3, Why printing only first nested list???"
   ]
  },
  {
   "cell_type": "code",
   "execution_count": 3,
   "metadata": {},
   "outputs": [
    {
     "name": "stdout",
     "output_type": "stream",
     "text": [
      "[[1, 2, 2, 2]]\n"
     ]
    }
   ],
   "source": [
    "a = [[[0] * 4] * 4]\n",
    "for i in range(len(a)):\n",
    "    for j in range(len(a[i])):\n",
    "        if i == j:\n",
    "            a[i][j] = 1\n",
    "        else:\n",
    "            a[i][j] = 2\n",
    "        j += 1\n",
    "    i += 1\n",
    "print(a)"
   ]
  }
 ],
 "metadata": {
  "kernelspec": {
   "display_name": "Python 3",
   "language": "python",
   "name": "python3"
  },
  "language_info": {
   "codemirror_mode": {
    "name": "ipython",
    "version": 3
   },
   "file_extension": ".py",
   "mimetype": "text/x-python",
   "name": "python",
   "nbconvert_exporter": "python",
   "pygments_lexer": "ipython3",
   "version": "3.6.5"
  }
 },
 "nbformat": 4,
 "nbformat_minor": 2
}
